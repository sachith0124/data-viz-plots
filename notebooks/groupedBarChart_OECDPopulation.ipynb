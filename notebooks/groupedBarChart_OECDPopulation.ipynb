{
 "cells": [
  {
   "cell_type": "markdown",
   "metadata": {},
   "source": [
    "## Imports"
   ]
  },
  {
   "cell_type": "code",
   "execution_count": 17,
   "metadata": {},
   "outputs": [],
   "source": [
    "import pandas as pd\n",
    "from icecream import ic\n",
    "import seaborn as sns\n",
    "from matplotlib import pyplot as plt\n",
    "sns.set()"
   ]
  },
  {
   "cell_type": "markdown",
   "metadata": {},
   "source": [
    "## Load Dataset"
   ]
  },
  {
   "cell_type": "code",
   "execution_count": 18,
   "metadata": {},
   "outputs": [],
   "source": [
    "source_filepath = '../datasets/oecd-population.csv'\n",
    "target_filepath = '../plots'\n",
    "oecd_pop_df = pd.read_csv(source_filepath)"
   ]
  },
  {
   "cell_type": "code",
   "execution_count": 19,
   "metadata": {},
   "outputs": [
    {
     "data": {
      "text/plain": [
       "(92907, 11)"
      ]
     },
     "execution_count": 19,
     "metadata": {},
     "output_type": "execute_result"
    }
   ],
   "source": [
    "oecd_pop_df.shape"
   ]
  },
  {
   "cell_type": "code",
   "execution_count": 20,
   "metadata": {},
   "outputs": [
    {
     "data": {
      "text/plain": [
       "array(['2 years', '3 years', '4 years', '5 years', '6 years', '7 years',\n",
       "       '8 years', '9 years', '10 years', '11 years', '12 years',\n",
       "       '13 years', '14 years', '15 years', '16 years', '17 years',\n",
       "       '18 years', '19 years', '20 years', '21 years', '22 years',\n",
       "       '23 years', '24 years', '25 years', '26 years', '27 years',\n",
       "       '28 years', '29 years', '30 years', '31 years', '32 years',\n",
       "       '33 years', '34 years', '35 years', '36 years', '37 years',\n",
       "       '38 years', '39 years', '40 years', '41 years', '42 years',\n",
       "       '43 years', '44 years', '45 years', '46 years', '47 years',\n",
       "       '48 years', '49 years', 'From 50 to 54 years',\n",
       "       'From 55 to 59 years', 'From 60 to 64 years', '65 years or over',\n",
       "       '1 year', 'From 10 to 14 years', '0 years', 'Total', 'Unknown'],\n",
       "      dtype=object)"
      ]
     },
     "execution_count": 20,
     "metadata": {},
     "output_type": "execute_result"
    }
   ],
   "source": [
    "oecd_pop_df['Age'].unique()"
   ]
  },
  {
   "cell_type": "code",
   "execution_count": 21,
   "metadata": {},
   "outputs": [
    {
     "data": {
      "text/html": [
       "<div>\n",
       "<style scoped>\n",
       "    .dataframe tbody tr th:only-of-type {\n",
       "        vertical-align: middle;\n",
       "    }\n",
       "\n",
       "    .dataframe tbody tr th {\n",
       "        vertical-align: top;\n",
       "    }\n",
       "\n",
       "    .dataframe thead th {\n",
       "        text-align: right;\n",
       "    }\n",
       "</style>\n",
       "<table border=\"1\" class=\"dataframe\">\n",
       "  <thead>\n",
       "    <tr style=\"text-align: right;\">\n",
       "      <th></th>\n",
       "      <th>COUNTRY</th>\n",
       "      <th>Country</th>\n",
       "      <th>SEX</th>\n",
       "      <th>Gender</th>\n",
       "      <th>AGE</th>\n",
       "      <th>Age</th>\n",
       "      <th>YEAR</th>\n",
       "      <th>Year</th>\n",
       "      <th>Value</th>\n",
       "      <th>Flag Codes</th>\n",
       "      <th>Flags</th>\n",
       "    </tr>\n",
       "  </thead>\n",
       "  <tbody>\n",
       "    <tr>\n",
       "      <th>0</th>\n",
       "      <td>AUS</td>\n",
       "      <td>Australia</td>\n",
       "      <td>F</td>\n",
       "      <td>Female</td>\n",
       "      <td>Y2</td>\n",
       "      <td>2 years</td>\n",
       "      <td>2000</td>\n",
       "      <td>2000</td>\n",
       "      <td>122824.0</td>\n",
       "      <td>NaN</td>\n",
       "      <td>NaN</td>\n",
       "    </tr>\n",
       "    <tr>\n",
       "      <th>1</th>\n",
       "      <td>AUS</td>\n",
       "      <td>Australia</td>\n",
       "      <td>F</td>\n",
       "      <td>Female</td>\n",
       "      <td>Y2</td>\n",
       "      <td>2 years</td>\n",
       "      <td>2005</td>\n",
       "      <td>2005</td>\n",
       "      <td>123149.0</td>\n",
       "      <td>NaN</td>\n",
       "      <td>NaN</td>\n",
       "    </tr>\n",
       "    <tr>\n",
       "      <th>2</th>\n",
       "      <td>AUS</td>\n",
       "      <td>Australia</td>\n",
       "      <td>F</td>\n",
       "      <td>Female</td>\n",
       "      <td>Y2</td>\n",
       "      <td>2 years</td>\n",
       "      <td>2010</td>\n",
       "      <td>2010</td>\n",
       "      <td>142144.0</td>\n",
       "      <td>NaN</td>\n",
       "      <td>NaN</td>\n",
       "    </tr>\n",
       "    <tr>\n",
       "      <th>3</th>\n",
       "      <td>AUS</td>\n",
       "      <td>Australia</td>\n",
       "      <td>F</td>\n",
       "      <td>Female</td>\n",
       "      <td>Y2</td>\n",
       "      <td>2 years</td>\n",
       "      <td>2011</td>\n",
       "      <td>2011</td>\n",
       "      <td>142664.0</td>\n",
       "      <td>NaN</td>\n",
       "      <td>NaN</td>\n",
       "    </tr>\n",
       "    <tr>\n",
       "      <th>4</th>\n",
       "      <td>AUS</td>\n",
       "      <td>Australia</td>\n",
       "      <td>F</td>\n",
       "      <td>Female</td>\n",
       "      <td>Y2</td>\n",
       "      <td>2 years</td>\n",
       "      <td>2012</td>\n",
       "      <td>2012</td>\n",
       "      <td>145990.0</td>\n",
       "      <td>NaN</td>\n",
       "      <td>NaN</td>\n",
       "    </tr>\n",
       "  </tbody>\n",
       "</table>\n",
       "</div>"
      ],
      "text/plain": [
       "  COUNTRY    Country SEX  Gender AGE      Age  YEAR  Year     Value  \\\n",
       "0     AUS  Australia   F  Female  Y2  2 years  2000  2000  122824.0   \n",
       "1     AUS  Australia   F  Female  Y2  2 years  2005  2005  123149.0   \n",
       "2     AUS  Australia   F  Female  Y2  2 years  2010  2010  142144.0   \n",
       "3     AUS  Australia   F  Female  Y2  2 years  2011  2011  142664.0   \n",
       "4     AUS  Australia   F  Female  Y2  2 years  2012  2012  145990.0   \n",
       "\n",
       "  Flag Codes Flags  \n",
       "0        NaN   NaN  \n",
       "1        NaN   NaN  \n",
       "2        NaN   NaN  \n",
       "3        NaN   NaN  \n",
       "4        NaN   NaN  "
      ]
     },
     "execution_count": 21,
     "metadata": {},
     "output_type": "execute_result"
    }
   ],
   "source": [
    "oecd_pop_df.head()"
   ]
  },
  {
   "cell_type": "markdown",
   "metadata": {},
   "source": [
    "## Data Preprocessing"
   ]
  },
  {
   "cell_type": "code",
   "execution_count": 22,
   "metadata": {},
   "outputs": [],
   "source": [
    "selected_country = 'Australia'\n",
    "selected_genders = ['Total']\n",
    "group_age_by = 20"
   ]
  },
  {
   "cell_type": "code",
   "execution_count": 23,
   "metadata": {},
   "outputs": [
    {
     "data": {
      "text/html": [
       "<div>\n",
       "<style scoped>\n",
       "    .dataframe tbody tr th:only-of-type {\n",
       "        vertical-align: middle;\n",
       "    }\n",
       "\n",
       "    .dataframe tbody tr th {\n",
       "        vertical-align: top;\n",
       "    }\n",
       "\n",
       "    .dataframe thead th {\n",
       "        text-align: right;\n",
       "    }\n",
       "</style>\n",
       "<table border=\"1\" class=\"dataframe\">\n",
       "  <thead>\n",
       "    <tr style=\"text-align: right;\">\n",
       "      <th></th>\n",
       "      <th>Country</th>\n",
       "      <th>Gender</th>\n",
       "      <th>Age</th>\n",
       "      <th>Year</th>\n",
       "      <th>Value</th>\n",
       "    </tr>\n",
       "  </thead>\n",
       "  <tbody>\n",
       "    <tr>\n",
       "      <th>0</th>\n",
       "      <td>Australia</td>\n",
       "      <td>Female</td>\n",
       "      <td>2 years</td>\n",
       "      <td>2000</td>\n",
       "      <td>122824.0</td>\n",
       "    </tr>\n",
       "    <tr>\n",
       "      <th>1</th>\n",
       "      <td>Australia</td>\n",
       "      <td>Female</td>\n",
       "      <td>2 years</td>\n",
       "      <td>2005</td>\n",
       "      <td>123149.0</td>\n",
       "    </tr>\n",
       "    <tr>\n",
       "      <th>2</th>\n",
       "      <td>Australia</td>\n",
       "      <td>Female</td>\n",
       "      <td>2 years</td>\n",
       "      <td>2010</td>\n",
       "      <td>142144.0</td>\n",
       "    </tr>\n",
       "    <tr>\n",
       "      <th>3</th>\n",
       "      <td>Australia</td>\n",
       "      <td>Female</td>\n",
       "      <td>2 years</td>\n",
       "      <td>2011</td>\n",
       "      <td>142664.0</td>\n",
       "    </tr>\n",
       "    <tr>\n",
       "      <th>4</th>\n",
       "      <td>Australia</td>\n",
       "      <td>Female</td>\n",
       "      <td>2 years</td>\n",
       "      <td>2012</td>\n",
       "      <td>145990.0</td>\n",
       "    </tr>\n",
       "  </tbody>\n",
       "</table>\n",
       "</div>"
      ],
      "text/plain": [
       "     Country  Gender      Age  Year     Value\n",
       "0  Australia  Female  2 years  2000  122824.0\n",
       "1  Australia  Female  2 years  2005  123149.0\n",
       "2  Australia  Female  2 years  2010  142144.0\n",
       "3  Australia  Female  2 years  2011  142664.0\n",
       "4  Australia  Female  2 years  2012  145990.0"
      ]
     },
     "execution_count": 23,
     "metadata": {},
     "output_type": "execute_result"
    }
   ],
   "source": [
    "cols_of_interest = ['Country', 'Gender', 'Age', 'Year', 'Value']\n",
    "oecd_pop_df = oecd_pop_df[cols_of_interest]\n",
    "oecd_pop_df.head()"
   ]
  },
  {
   "cell_type": "code",
   "execution_count": 24,
   "metadata": {},
   "outputs": [
    {
     "data": {
      "text/plain": [
       "array([2000, 2005, 2010, 2011, 2012, 2013, 2014, 2015, 2016, 2017, 2018,\n",
       "       2019, 2020, 2021])"
      ]
     },
     "execution_count": 24,
     "metadata": {},
     "output_type": "execute_result"
    }
   ],
   "source": [
    "oecd_pop_df['Year'].unique()"
   ]
  },
  {
   "cell_type": "code",
   "execution_count": 25,
   "metadata": {},
   "outputs": [
    {
     "data": {
      "text/html": [
       "<div>\n",
       "<style scoped>\n",
       "    .dataframe tbody tr th:only-of-type {\n",
       "        vertical-align: middle;\n",
       "    }\n",
       "\n",
       "    .dataframe tbody tr th {\n",
       "        vertical-align: top;\n",
       "    }\n",
       "\n",
       "    .dataframe thead th {\n",
       "        text-align: right;\n",
       "    }\n",
       "</style>\n",
       "<table border=\"1\" class=\"dataframe\">\n",
       "  <thead>\n",
       "    <tr style=\"text-align: right;\">\n",
       "      <th></th>\n",
       "      <th>Gender</th>\n",
       "      <th>Age</th>\n",
       "      <th>Year</th>\n",
       "      <th>Value</th>\n",
       "    </tr>\n",
       "  </thead>\n",
       "  <tbody>\n",
       "    <tr>\n",
       "      <th>0</th>\n",
       "      <td>Female</td>\n",
       "      <td>2 years</td>\n",
       "      <td>2000</td>\n",
       "      <td>122824.0</td>\n",
       "    </tr>\n",
       "    <tr>\n",
       "      <th>1</th>\n",
       "      <td>Female</td>\n",
       "      <td>2 years</td>\n",
       "      <td>2005</td>\n",
       "      <td>123149.0</td>\n",
       "    </tr>\n",
       "    <tr>\n",
       "      <th>2</th>\n",
       "      <td>Female</td>\n",
       "      <td>2 years</td>\n",
       "      <td>2010</td>\n",
       "      <td>142144.0</td>\n",
       "    </tr>\n",
       "    <tr>\n",
       "      <th>3</th>\n",
       "      <td>Female</td>\n",
       "      <td>2 years</td>\n",
       "      <td>2011</td>\n",
       "      <td>142664.0</td>\n",
       "    </tr>\n",
       "    <tr>\n",
       "      <th>4</th>\n",
       "      <td>Female</td>\n",
       "      <td>2 years</td>\n",
       "      <td>2012</td>\n",
       "      <td>145990.0</td>\n",
       "    </tr>\n",
       "  </tbody>\n",
       "</table>\n",
       "</div>"
      ],
      "text/plain": [
       "   Gender      Age  Year     Value\n",
       "0  Female  2 years  2000  122824.0\n",
       "1  Female  2 years  2005  123149.0\n",
       "2  Female  2 years  2010  142144.0\n",
       "3  Female  2 years  2011  142664.0\n",
       "4  Female  2 years  2012  145990.0"
      ]
     },
     "execution_count": 25,
     "metadata": {},
     "output_type": "execute_result"
    }
   ],
   "source": [
    "country_pop = oecd_pop_df.query('Country == @selected_country').drop(['Country'], axis=1)\n",
    "country_pop.head()"
   ]
  },
  {
   "cell_type": "code",
   "execution_count": 26,
   "metadata": {},
   "outputs": [
    {
     "data": {
      "text/html": [
       "<div>\n",
       "<style scoped>\n",
       "    .dataframe tbody tr th:only-of-type {\n",
       "        vertical-align: middle;\n",
       "    }\n",
       "\n",
       "    .dataframe tbody tr th {\n",
       "        vertical-align: top;\n",
       "    }\n",
       "\n",
       "    .dataframe thead th {\n",
       "        text-align: right;\n",
       "    }\n",
       "</style>\n",
       "<table border=\"1\" class=\"dataframe\">\n",
       "  <thead>\n",
       "    <tr style=\"text-align: right;\">\n",
       "      <th></th>\n",
       "      <th>Gender</th>\n",
       "      <th>Age</th>\n",
       "      <th>Year</th>\n",
       "      <th>Value</th>\n",
       "    </tr>\n",
       "  </thead>\n",
       "  <tbody>\n",
       "    <tr>\n",
       "      <th>57073</th>\n",
       "      <td>Total</td>\n",
       "      <td>36 years</td>\n",
       "      <td>2000</td>\n",
       "      <td>297614.0</td>\n",
       "    </tr>\n",
       "    <tr>\n",
       "      <th>57074</th>\n",
       "      <td>Total</td>\n",
       "      <td>36 years</td>\n",
       "      <td>2005</td>\n",
       "      <td>299111.0</td>\n",
       "    </tr>\n",
       "    <tr>\n",
       "      <th>57075</th>\n",
       "      <td>Total</td>\n",
       "      <td>36 years</td>\n",
       "      <td>2010</td>\n",
       "      <td>309717.0</td>\n",
       "    </tr>\n",
       "    <tr>\n",
       "      <th>57076</th>\n",
       "      <td>Total</td>\n",
       "      <td>36 years</td>\n",
       "      <td>2011</td>\n",
       "      <td>305275.0</td>\n",
       "    </tr>\n",
       "    <tr>\n",
       "      <th>57077</th>\n",
       "      <td>Total</td>\n",
       "      <td>36 years</td>\n",
       "      <td>2012</td>\n",
       "      <td>304389.0</td>\n",
       "    </tr>\n",
       "  </tbody>\n",
       "</table>\n",
       "</div>"
      ],
      "text/plain": [
       "      Gender       Age  Year     Value\n",
       "57073  Total  36 years  2000  297614.0\n",
       "57074  Total  36 years  2005  299111.0\n",
       "57075  Total  36 years  2010  309717.0\n",
       "57076  Total  36 years  2011  305275.0\n",
       "57077  Total  36 years  2012  304389.0"
      ]
     },
     "execution_count": 26,
     "metadata": {},
     "output_type": "execute_result"
    }
   ],
   "source": [
    "country_tot_pop = country_pop.query('Gender in @selected_genders')\n",
    "country_tot_pop.head()"
   ]
  },
  {
   "cell_type": "code",
   "execution_count": 27,
   "metadata": {},
   "outputs": [],
   "source": [
    "def create_age_groups(group_age_by):\n",
    "    reference_age = 65\n",
    "    ages_dict = dict()\n",
    "\n",
    "    get_age_label = lambda *args: \\\n",
    "        f'{args[0]} years' if args[0] == args[1] else f'{age-group_age_by} years to {age-1} years'\n",
    "\n",
    "    age = reference_age\n",
    "    if age >= 65: \n",
    "        ages_label = ages_inds = '65 years or over'\n",
    "        ages_dict[ages_inds] = ages_label\n",
    "        ic(f'{ages_inds}: {ages_label}')\n",
    "    while (age > 50):\n",
    "        ages_label = get_age_label(age-group_age_by, age-1)\n",
    "        ages_inds = []\n",
    "        for init_age in range(age-group_age_by, age, 5):\n",
    "            if init_age+5 > 50:\n",
    "                ages_inds.insert(0, f'From {init_age} to {init_age+5-1} years')\n",
    "            else:\n",
    "                ages_inds.extend([f'{i} years' for i in range(init_age, init_age+5)])\n",
    "        ages_dict[tuple(ages_inds)] = ages_label\n",
    "        age -= group_age_by\n",
    "        ic(f'{ages_inds}: {ages_label}')\n",
    "    while(age > 0 and age >= group_age_by):\n",
    "        ages_inds = [f'{i} years' for i in range(age-group_age_by, age)]\n",
    "        ages_label = f'{get_age_label(age-group_age_by, age-1)}'\n",
    "        ages_dict[tuple(ages_inds)] = ages_label\n",
    "        ic(f'{ages_inds}: {ages_label}')\n",
    "        age -= group_age_by\n",
    "    if age > 0:\n",
    "        ages_label = f'below {age} years'\n",
    "        ages_inds = [f'{i} years' for i in range(0, age)]\n",
    "        ages_dict[tuple(ages_inds)] = ages_label\n",
    "        ic(f'{ages_inds}: {ages_label}')\n",
    "\n",
    "    return ages_dict"
   ]
  },
  {
   "cell_type": "code",
   "execution_count": 28,
   "metadata": {},
   "outputs": [],
   "source": [
    "def replace_column_names(col_name, group_age_by):\n",
    "    ref_dict = create_age_groups(group_age_by)\n",
    "    for key, label in ref_dict.items():\n",
    "        if col_name in key:\n",
    "            return label"
   ]
  },
  {
   "cell_type": "code",
   "execution_count": 29,
   "metadata": {},
   "outputs": [
    {
     "data": {
      "text/plain": [
       "Year  tempAge \n",
       "2000  (15,)       3424570.0\n",
       "      (15, 39)    6947434.0\n",
       "      (40, 64)    5773766.0\n",
       "      (65,)       2630674.0\n",
       "2005  (15,)       3467929.0\n",
       "      (15, 39)    7115649.0\n",
       "      (40, 64)    6465925.0\n",
       "      (65,)       2873445.0\n",
       "2010  (15,)       3629205.0\n",
       "      (15, 39)    7791101.0\n",
       "      (40, 64)    7055276.0\n",
       "      (65,)       3262758.0\n",
       "2011  (15,)       3650344.0\n",
       "      (15, 39)    7833363.0\n",
       "      (40, 64)    7185137.0\n",
       "      (65,)       3376564.0\n",
       "2012  (15,)       3715380.0\n",
       "      (15, 39)    7934827.0\n",
       "      (40, 64)    7280791.0\n",
       "      (65,)       3507467.0\n",
       "2013  (15,)       3768852.0\n",
       "      (15, 39)    8049407.0\n",
       "      (40, 64)    7370418.0\n",
       "      (65,)       3632523.0\n",
       "2014  (15,)       3822014.0\n",
       "      (15, 39)    8148125.0\n",
       "      (40, 64)    7445691.0\n",
       "      (65,)       3748440.0\n",
       "2015  (15,)       3878054.0\n",
       "      (15, 39)    8257410.0\n",
       "      (40, 64)    7504764.0\n",
       "      (65,)       3867475.0\n",
       "2016  (15,)       3945917.0\n",
       "      (15, 39)    8385071.0\n",
       "      (40, 64)    7560988.0\n",
       "      (65,)       3986887.0\n",
       "2017  (15,)       3998491.0\n",
       "      (15, 39)    8537484.0\n",
       "      (40, 64)    7632921.0\n",
       "      (65,)       4106004.0\n",
       "2018  (15,)       4056250.0\n",
       "      (15, 39)    8677566.0\n",
       "      (40, 64)    7695720.0\n",
       "      (65,)       4229816.0\n",
       "2019  (15,)       4108127.0\n",
       "      (15, 39)    8805649.0\n",
       "      (40, 64)    7770944.0\n",
       "      (65,)       4352146.0\n",
       "2020  (15,)       4137033.0\n",
       "      (15, 39)    8832437.0\n",
       "      (40, 64)    7878716.0\n",
       "      (65,)       4505169.0\n",
       "2021  (15,)       4134459.0\n",
       "      (15, 39)    8692054.0\n",
       "      (40, 64)    7931621.0\n",
       "      (65,)       4634781.0\n",
       "Name: Value, dtype: float64"
      ]
     },
     "execution_count": 29,
     "metadata": {},
     "output_type": "execute_result"
    }
   ],
   "source": [
    "import re\n",
    "ic.disable()\n",
    "\n",
    "country_pop_procced_df = country_tot_pop.copy()\n",
    "\n",
    "#preprocessing for groupby step\n",
    "age_groups = list(create_age_groups(group_age_by).values())\n",
    "country_pop_procced_df['Age'] = country_pop_procced_df['Age'].apply(replace_column_names, group_age_by=group_age_by)\n",
    "country_pop_procced_df = country_pop_procced_df.loc[country_pop_procced_df['Age'].isin(age_groups)]\n",
    "\n",
    "get_nums = lambda str: tuple([int(match) for match in re.findall(r'\\d+', str)])\n",
    "country_pop_procced_df['tempAge'] = country_pop_procced_df['Age'].apply(get_nums)\n",
    "country_pop_procced_df = country_pop_procced_df.sort_values(['Year', 'tempAge'])\n",
    "\n",
    "ages_list = country_pop_procced_df['Age'].unique()\n",
    "\n",
    "#Groupby\n",
    "country_pop_procced_df = country_pop_procced_df.groupby(['Year', 'tempAge', 'Age'])['Value'].sum()\n",
    "country_pop_procced_df = country_pop_procced_df.sort_index(level=[0, 1]).droplevel('Age')\n",
    "\n",
    "country_pop_procced_df"
   ]
  },
  {
   "cell_type": "code",
   "execution_count": 30,
   "metadata": {},
   "outputs": [
    {
     "data": {
      "text/plain": [
       "8832437.0"
      ]
     },
     "execution_count": 30,
     "metadata": {},
     "output_type": "execute_result"
    }
   ],
   "source": [
    "country_pop_procced_df.max()"
   ]
  },
  {
   "cell_type": "code",
   "execution_count": 31,
   "metadata": {},
   "outputs": [
    {
     "name": "stderr",
     "output_type": "stream",
     "text": [
      "/var/folders/pt/7c62stp91n90_kb8qmmqs5d00000gn/T/ipykernel_1807/253487663.py:8: UserWarning: set_ticklabels() should only be used with a fixed number of ticks, i.e. after set_ticks() or using a FixedLocator.\n",
      "  ax.set_yticklabels(y_ticks)\n"
     ]
    },
    {
     "data": {
      "image/png": "[encoded data removed]",
      "text/plain": [
       "<Figure size 1000x600 with 1 Axes>"
      ]
     },
     "metadata": {},
     "output_type": "display_data"
    }
   ],
   "source": [
    "df_plot = country_pop_procced_df.unstack().sort_index(level=1, axis=1)\n",
    "# Plotting\n",
    "ax = df_plot.plot(kind='bar', width=0.9, figsize=(10, 6), rot=45)\n",
    "\n",
    "ax.set_ylabel('Values')\n",
    "ax.set_title(f'Population by Year and Age Group for {selected_country}')\n",
    "y_ticks = ['1,000,000', '2,000,000', '3,0000,00', '4,000,000', '5,000,000', '6,000,000', '7,000,000', '8,000,000', '9,000,000', '10,000,000']\n",
    "ax.set_yticklabels(y_ticks)\n",
    "\n",
    "# Adding legend\n",
    "plt.legend(title='Age Group', bbox_to_anchor=(1, 1), labels=ages_list)\n",
    "\n",
    "# Show the plot\n",
    "plt.show()"
   ]
  },
  {
   "cell_type": "code",
   "execution_count": null,
   "metadata": {},
   "outputs": [],
   "source": []
  }
 ],
 "metadata": {
  "kernelspec": {
   "display_name": ".venv",
   "language": "python",
   "name": "python3"
  },
  "language_info": {
   "codemirror_mode": {
    "name": "ipython",
    "version": 3
   },
   "file_extension": ".py",
   "mimetype": "text/x-python",
   "name": "python",
   "nbconvert_exporter": "python",
   "pygments_lexer": "ipython3",
   "version": "3.10.2"
  }
 },
 "nbformat": 4,
 "nbformat_minor": 2
}
