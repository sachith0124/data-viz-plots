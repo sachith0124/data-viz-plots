{
 "cells": [
  {
   "cell_type": "code",
   "execution_count": 1,
   "metadata": {},
   "outputs": [],
   "source": [
    "import pandas as pd\n",
    "import numpy as np\n",
    "from icecream import ic\n",
    "import seaborn as sns\n",
    "from matplotlib import pyplot as plt\n",
    "sns.set()"
   ]
  },
  {
   "cell_type": "code",
   "execution_count": 2,
   "metadata": {},
   "outputs": [],
   "source": [
    "source_filepath = '../datasets/oecd-population.csv'\n",
    "target_filepath = '../plots'\n",
    "oecd_pop_df = pd.read_csv(source_filepath)"
   ]
  },
  {
   "cell_type": "code",
   "execution_count": 3,
   "metadata": {},
   "outputs": [
    {
     "name": "stderr",
     "output_type": "stream",
     "text": [
      "ic| file_name: '../datasets/wits-imports-exports/WITS-Partner_1988.xlsx'\n",
      "/var/folders/pt/7c62stp91n90_kb8qmmqs5d00000gn/T/ipykernel_16611/220033432.py:12: FutureWarning: The behavior of DataFrame concatenation with empty or all-NA entries is deprecated. In a future version, this will no longer exclude empty or all-NA columns when determining the result dtypes. To retain the old behavior, exclude the relevant entries before the concat operation.\n",
      "  wits_imports_exports = pd.concat(\n",
      "ic| file_name: '../datasets/wits-imports-exports/WITS-Partner_1989.xlsx'\n",
      "ic| file_name: '../datasets/wits-imports-exports/WITS-Partner_1990.xlsx'\n",
      "ic| file_name: '../datasets/wits-imports-exports/WITS-Partner_1991.xlsx'\n",
      "ic| file_name: '../datasets/wits-imports-exports/WITS-Partner_1992.xlsx'\n",
      "ic| file_name: '../datasets/wits-imports-exports/WITS-Partner_1993.xlsx'\n",
      "ic| file_name: '../datasets/wits-imports-exports/WITS-Partner_1994.xlsx'\n",
      "ic| file_name: '../datasets/wits-imports-exports/WITS-Partner_1995.xlsx'\n",
      "ic| file_name: '../datasets/wits-imports-exports/WITS-Partner_1996.xlsx'\n",
      "ic| file_name: '../datasets/wits-imports-exports/WITS-Partner_1997.xlsx'\n",
      "ic| file_name: '../datasets/wits-imports-exports/WITS-Partner_1998.xlsx'\n",
      "ic| file_name: '../datasets/wits-imports-exports/WITS-Partner_1999.xlsx'\n",
      "ic| file_name: '../datasets/wits-imports-exports/WITS-Partner_2000.xlsx'\n",
      "ic| file_name: '../datasets/wits-imports-exports/WITS-Partner_2001.xlsx'\n",
      "ic| file_name: '../datasets/wits-imports-exports/WITS-Partner_2002.xlsx'\n",
      "ic| file_name: '../datasets/wits-imports-exports/WITS-Partner_2003.xlsx'\n",
      "ic| file_name: '../datasets/wits-imports-exports/WITS-Partner_2004.xlsx'\n",
      "ic| file_name: '../datasets/wits-imports-exports/WITS-Partner_2005.xlsx'\n",
      "ic| file_name: '../datasets/wits-imports-exports/WITS-Partner_2006.xlsx'\n",
      "ic| file_name: '../datasets/wits-imports-exports/WITS-Partner_2007.xlsx'\n",
      "ic| file_name: '../datasets/wits-imports-exports/WITS-Partner_2008.xlsx'\n",
      "ic| file_name: '../datasets/wits-imports-exports/WITS-Partner_2009.xlsx'\n",
      "ic| file_name: '../datasets/wits-imports-exports/WITS-Partner_2010.xlsx'\n",
      "ic| file_name: '../datasets/wits-imports-exports/WITS-Partner_2011.xlsx'\n",
      "ic| file_name: '../datasets/wits-imports-exports/WITS-Partner_2012.xlsx'\n",
      "ic| file_name: '../datasets/wits-imports-exports/WITS-Partner_2013.xlsx'\n",
      "ic| file_name: '../datasets/wits-imports-exports/WITS-Partner_2014.xlsx'\n",
      "ic| file_name: '../datasets/wits-imports-exports/WITS-Partner_2015.xlsx'\n",
      "ic| file_name: '../datasets/wits-imports-exports/WITS-Partner_2016.xlsx'\n",
      "ic| file_name: '../datasets/wits-imports-exports/WITS-Partner_2017.xlsx'\n",
      "ic| file_name: '../datasets/wits-imports-exports/WITS-Partner_2018.xlsx'\n",
      "ic| file_name: '../datasets/wits-imports-exports/WITS-Partner_2019.xlsx'\n",
      "ic| file_name: '../datasets/wits-imports-exports/WITS-Partner_2020.xlsx'\n",
      "ic| file_name: '../datasets/wits-imports-exports/WITS-Partner_2021.xlsx'\n"
     ]
    }
   ],
   "source": [
    "source_dir = '../datasets/wits-imports-exports/'\n",
    "data_file = lambda year: f'WITS-Partner_{year}.xlsx'\n",
    "target_filepath = '../plots'\n",
    "\n",
    "columns_of_interest = ['Partner Name', 'Year', 'Export (US$ Thousand)', 'Import (US$ Thousand)']\n",
    "wits_imports_exports = pd.DataFrame(columns=columns_of_interest)\n",
    "\n",
    "for year in range(1988, 2022):\n",
    "    file_name = source_dir+data_file(year)\n",
    "    ic(file_name)\n",
    "    with pd.ExcelFile(file_name, engine='openpyxl') as xlsx:\n",
    "       wits_imports_exports = pd.concat(\n",
    "           [wits_imports_exports, pd.read_excel(xlsx, \"Partner\")[columns_of_interest]])\n",
    "       \n",
    "wits_imports_exports.rename(columns={'Partner Name': 'Country'}, inplace=True)\n",
    "wits_imports_exports.to_csv('../datasets/wits-imports-exports.csv', index=False)\n",
    "        "
   ]
  },
  {
   "cell_type": "code",
   "execution_count": 4,
   "metadata": {},
   "outputs": [
    {
     "data": {
      "text/html": [
       "<div>\n",
       "<style scoped>\n",
       "    .dataframe tbody tr th:only-of-type {\n",
       "        vertical-align: middle;\n",
       "    }\n",
       "\n",
       "    .dataframe tbody tr th {\n",
       "        vertical-align: top;\n",
       "    }\n",
       "\n",
       "    .dataframe thead th {\n",
       "        text-align: right;\n",
       "    }\n",
       "</style>\n",
       "<table border=\"1\" class=\"dataframe\">\n",
       "  <thead>\n",
       "    <tr style=\"text-align: right;\">\n",
       "      <th></th>\n",
       "      <th>Country</th>\n",
       "      <th>Year</th>\n",
       "      <th>Export (US$ Thousand)</th>\n",
       "      <th>Import (US$ Thousand)</th>\n",
       "    </tr>\n",
       "  </thead>\n",
       "  <tbody>\n",
       "    <tr>\n",
       "      <th>0</th>\n",
       "      <td>Aruba</td>\n",
       "      <td>1988</td>\n",
       "      <td>3498.10</td>\n",
       "      <td>328.49</td>\n",
       "    </tr>\n",
       "    <tr>\n",
       "      <th>1</th>\n",
       "      <td>Afghanistan</td>\n",
       "      <td>1988</td>\n",
       "      <td>213030.40</td>\n",
       "      <td>54459.52</td>\n",
       "    </tr>\n",
       "    <tr>\n",
       "      <th>2</th>\n",
       "      <td>Angola</td>\n",
       "      <td>1988</td>\n",
       "      <td>375527.89</td>\n",
       "      <td>370702.76</td>\n",
       "    </tr>\n",
       "    <tr>\n",
       "      <th>3</th>\n",
       "      <td>Anguila</td>\n",
       "      <td>1988</td>\n",
       "      <td>366.98</td>\n",
       "      <td>4.00</td>\n",
       "    </tr>\n",
       "    <tr>\n",
       "      <th>4</th>\n",
       "      <td>Albania</td>\n",
       "      <td>1988</td>\n",
       "      <td>30103.56</td>\n",
       "      <td>47709.30</td>\n",
       "    </tr>\n",
       "  </tbody>\n",
       "</table>\n",
       "</div>"
      ],
      "text/plain": [
       "       Country  Year  Export (US$ Thousand)  Import (US$ Thousand)\n",
       "0        Aruba  1988                3498.10                 328.49\n",
       "1  Afghanistan  1988              213030.40               54459.52\n",
       "2       Angola  1988              375527.89              370702.76\n",
       "3      Anguila  1988                 366.98                   4.00\n",
       "4      Albania  1988               30103.56               47709.30"
      ]
     },
     "execution_count": 4,
     "metadata": {},
     "output_type": "execute_result"
    }
   ],
   "source": [
    "wits_imports_exports = pd.read_csv('../datasets/wits-imports-exports.csv')\n",
    "wits_imports_exports.head()"
   ]
  },
  {
   "cell_type": "code",
   "execution_count": 5,
   "metadata": {},
   "outputs": [
    {
     "data": {
      "text/html": [
       "<div>\n",
       "<style scoped>\n",
       "    .dataframe tbody tr th:only-of-type {\n",
       "        vertical-align: middle;\n",
       "    }\n",
       "\n",
       "    .dataframe tbody tr th {\n",
       "        vertical-align: top;\n",
       "    }\n",
       "\n",
       "    .dataframe thead th {\n",
       "        text-align: right;\n",
       "    }\n",
       "</style>\n",
       "<table border=\"1\" class=\"dataframe\">\n",
       "  <thead>\n",
       "    <tr style=\"text-align: right;\">\n",
       "      <th></th>\n",
       "      <th>Country</th>\n",
       "      <th>Year</th>\n",
       "      <th>Export (US$ Thousand)</th>\n",
       "      <th>Import (US$ Thousand)</th>\n",
       "    </tr>\n",
       "  </thead>\n",
       "  <tbody>\n",
       "    <tr>\n",
       "      <th>7893</th>\n",
       "      <td>China</td>\n",
       "      <td>2021</td>\n",
       "      <td>2.419607e+09</td>\n",
       "      <td>3.383436e+09</td>\n",
       "    </tr>\n",
       "  </tbody>\n",
       "</table>\n",
       "</div>"
      ],
      "text/plain": [
       "     Country  Year  Export (US$ Thousand)  Import (US$ Thousand)\n",
       "7893   China  2021           2.419607e+09           3.383436e+09"
      ]
     },
     "execution_count": 5,
     "metadata": {},
     "output_type": "execute_result"
    }
   ],
   "source": [
    "wits_imports_exports[(wits_imports_exports['Country'] == 'China') & (wits_imports_exports['Year'] == 2021)]"
   ]
  },
  {
   "cell_type": "code",
   "execution_count": 12,
   "metadata": {},
   "outputs": [
    {
     "data": {
      "text/plain": [
       "265"
      ]
     },
     "execution_count": 12,
     "metadata": {},
     "output_type": "execute_result"
    }
   ],
   "source": [
    "len(wits_imports_exports['Country'].unique())"
   ]
  },
  {
   "cell_type": "code",
   "execution_count": 6,
   "metadata": {},
   "outputs": [
    {
     "data": {
      "text/plain": [
       "183"
      ]
     },
     "execution_count": 6,
     "metadata": {},
     "output_type": "execute_result"
    }
   ],
   "source": [
    "# wits_imports_exports[wits_imports_exports['Country'] == 'United States'].index[0]\n",
    "np.where(wits_imports_exports['Country'].unique() == 'United States')[0][0]"
   ]
  },
  {
   "cell_type": "code",
   "execution_count": 7,
   "metadata": {},
   "outputs": [
    {
     "data": {
      "text/html": [
       "<div>\n",
       "<style scoped>\n",
       "    .dataframe tbody tr th:only-of-type {\n",
       "        vertical-align: middle;\n",
       "    }\n",
       "\n",
       "    .dataframe tbody tr th {\n",
       "        vertical-align: top;\n",
       "    }\n",
       "\n",
       "    .dataframe thead th {\n",
       "        text-align: right;\n",
       "    }\n",
       "</style>\n",
       "<table border=\"1\" class=\"dataframe\">\n",
       "  <thead>\n",
       "    <tr style=\"text-align: right;\">\n",
       "      <th></th>\n",
       "      <th>Year</th>\n",
       "      <th>Export (US$ Thousand)</th>\n",
       "      <th>Import (US$ Thousand)</th>\n",
       "    </tr>\n",
       "  </thead>\n",
       "  <tbody>\n",
       "    <tr>\n",
       "      <th>94</th>\n",
       "      <td>1988</td>\n",
       "      <td>3.195074e+07</td>\n",
       "      <td>5.212943e+07</td>\n",
       "    </tr>\n",
       "    <tr>\n",
       "      <th>301</th>\n",
       "      <td>1989</td>\n",
       "      <td>7.080756e+07</td>\n",
       "      <td>9.527899e+07</td>\n",
       "    </tr>\n",
       "    <tr>\n",
       "      <th>512</th>\n",
       "      <td>1990</td>\n",
       "      <td>7.889416e+07</td>\n",
       "      <td>1.105882e+08</td>\n",
       "    </tr>\n",
       "    <tr>\n",
       "      <th>724</th>\n",
       "      <td>1991</td>\n",
       "      <td>1.291768e+08</td>\n",
       "      <td>2.238075e+08</td>\n",
       "    </tr>\n",
       "    <tr>\n",
       "      <th>943</th>\n",
       "      <td>1992</td>\n",
       "      <td>1.455659e+08</td>\n",
       "      <td>2.602507e+08</td>\n",
       "    </tr>\n",
       "  </tbody>\n",
       "</table>\n",
       "</div>"
      ],
      "text/plain": [
       "     Year  Export (US$ Thousand)  Import (US$ Thousand)\n",
       "94   1988           3.195074e+07           5.212943e+07\n",
       "301  1989           7.080756e+07           9.527899e+07\n",
       "512  1990           7.889416e+07           1.105882e+08\n",
       "724  1991           1.291768e+08           2.238075e+08\n",
       "943  1992           1.455659e+08           2.602507e+08"
      ]
     },
     "execution_count": 7,
     "metadata": {},
     "output_type": "execute_result"
    }
   ],
   "source": [
    "selected_country = 'Japan'\n",
    "country_imports_exports = wits_imports_exports.query('Country == @selected_country').drop('Country', axis=1)\n",
    "country_imports_exports.head()"
   ]
  },
  {
   "cell_type": "code",
   "execution_count": 8,
   "metadata": {},
   "outputs": [
    {
     "data": {
      "text/html": [
       "<div>\n",
       "<style scoped>\n",
       "    .dataframe tbody tr th:only-of-type {\n",
       "        vertical-align: middle;\n",
       "    }\n",
       "\n",
       "    .dataframe tbody tr th {\n",
       "        vertical-align: top;\n",
       "    }\n",
       "\n",
       "    .dataframe thead th {\n",
       "        text-align: right;\n",
       "    }\n",
       "</style>\n",
       "<table border=\"1\" class=\"dataframe\">\n",
       "  <thead>\n",
       "    <tr style=\"text-align: right;\">\n",
       "      <th></th>\n",
       "      <th>Year</th>\n",
       "      <th>Export in US$ Millions</th>\n",
       "      <th>Import in US$ Millions</th>\n",
       "    </tr>\n",
       "  </thead>\n",
       "  <tbody>\n",
       "    <tr>\n",
       "      <th>94</th>\n",
       "      <td>1988</td>\n",
       "      <td>31950.74</td>\n",
       "      <td>52129.43</td>\n",
       "    </tr>\n",
       "    <tr>\n",
       "      <th>301</th>\n",
       "      <td>1989</td>\n",
       "      <td>70807.56</td>\n",
       "      <td>95278.99</td>\n",
       "    </tr>\n",
       "    <tr>\n",
       "      <th>512</th>\n",
       "      <td>1990</td>\n",
       "      <td>78894.16</td>\n",
       "      <td>110588.18</td>\n",
       "    </tr>\n",
       "    <tr>\n",
       "      <th>724</th>\n",
       "      <td>1991</td>\n",
       "      <td>129176.82</td>\n",
       "      <td>223807.53</td>\n",
       "    </tr>\n",
       "    <tr>\n",
       "      <th>943</th>\n",
       "      <td>1992</td>\n",
       "      <td>145565.90</td>\n",
       "      <td>260250.70</td>\n",
       "    </tr>\n",
       "  </tbody>\n",
       "</table>\n",
       "</div>"
      ],
      "text/plain": [
       "     Year  Export in US$ Millions  Import in US$ Millions\n",
       "94   1988                31950.74                52129.43\n",
       "301  1989                70807.56                95278.99\n",
       "512  1990                78894.16               110588.18\n",
       "724  1991               129176.82               223807.53\n",
       "943  1992               145565.90               260250.70"
      ]
     },
     "execution_count": 8,
     "metadata": {},
     "output_type": "execute_result"
    }
   ],
   "source": [
    "thousand_to_million_round2 = lambda n: np.round(n / 1000, 2)\n",
    "\n",
    "country_imports_exports['Export in US$ Millions'] = country_imports_exports['Export (US$ Thousand)'].apply(thousand_to_million_round2)\n",
    "country_imports_exports.drop('Export (US$ Thousand)', axis=1, inplace=True)\n",
    "\n",
    "country_imports_exports['Import in US$ Millions'] = country_imports_exports['Import (US$ Thousand)'].apply(thousand_to_million_round2)\n",
    "country_imports_exports.drop('Import (US$ Thousand)', axis=1, inplace=True)\n",
    "\n",
    "# country_imports_exports['Trade Balance'] = country_imports_exports['Export in US$ Millions'] - country_imports_exports['Import in US$ Millions']\n",
    "country_imports_exports.head()"
   ]
  },
  {
   "cell_type": "code",
   "execution_count": 9,
   "metadata": {},
   "outputs": [
    {
     "name": "stderr",
     "output_type": "stream",
     "text": [
      "/var/folders/pt/7c62stp91n90_kb8qmmqs5d00000gn/T/ipykernel_16611/3078453641.py:10: FutureWarning: The behavior of DataFrame concatenation with empty or all-NA entries is deprecated. In a future version, this will no longer exclude empty or all-NA columns when determining the result dtypes. To retain the old behavior, exclude the relevant entries before the concat operation.\n",
      "  country_trade_balance = pd.concat([country_trade_balance, pd.DataFrame([export_row, import_row])])\n"
     ]
    },
    {
     "data": {
      "text/html": [
       "<div>\n",
       "<style scoped>\n",
       "    .dataframe tbody tr th:only-of-type {\n",
       "        vertical-align: middle;\n",
       "    }\n",
       "\n",
       "    .dataframe tbody tr th {\n",
       "        vertical-align: top;\n",
       "    }\n",
       "\n",
       "    .dataframe thead th {\n",
       "        text-align: right;\n",
       "    }\n",
       "</style>\n",
       "<table border=\"1\" class=\"dataframe\">\n",
       "  <thead>\n",
       "    <tr style=\"text-align: right;\">\n",
       "      <th></th>\n",
       "      <th>Year</th>\n",
       "      <th>Export or Import</th>\n",
       "      <th>Value in US$ Millions</th>\n",
       "      <th>Trade Balance in US$ Millions</th>\n",
       "    </tr>\n",
       "  </thead>\n",
       "  <tbody>\n",
       "    <tr>\n",
       "      <th>0</th>\n",
       "      <td>1988</td>\n",
       "      <td>Export</td>\n",
       "      <td>31950.74</td>\n",
       "      <td>-20178.69</td>\n",
       "    </tr>\n",
       "    <tr>\n",
       "      <th>1</th>\n",
       "      <td>1988</td>\n",
       "      <td>Import</td>\n",
       "      <td>-52129.43</td>\n",
       "      <td>-20178.69</td>\n",
       "    </tr>\n",
       "    <tr>\n",
       "      <th>0</th>\n",
       "      <td>1989</td>\n",
       "      <td>Export</td>\n",
       "      <td>70807.56</td>\n",
       "      <td>-24471.43</td>\n",
       "    </tr>\n",
       "    <tr>\n",
       "      <th>1</th>\n",
       "      <td>1989</td>\n",
       "      <td>Import</td>\n",
       "      <td>-95278.99</td>\n",
       "      <td>-24471.43</td>\n",
       "    </tr>\n",
       "    <tr>\n",
       "      <th>0</th>\n",
       "      <td>1990</td>\n",
       "      <td>Export</td>\n",
       "      <td>78894.16</td>\n",
       "      <td>-31694.02</td>\n",
       "    </tr>\n",
       "  </tbody>\n",
       "</table>\n",
       "</div>"
      ],
      "text/plain": [
       "   Year Export or Import  Value in US$ Millions  Trade Balance in US$ Millions\n",
       "0  1988           Export               31950.74                      -20178.69\n",
       "1  1988           Import              -52129.43                      -20178.69\n",
       "0  1989           Export               70807.56                      -24471.43\n",
       "1  1989           Import              -95278.99                      -24471.43\n",
       "0  1990           Export               78894.16                      -31694.02"
      ]
     },
     "execution_count": 9,
     "metadata": {},
     "output_type": "execute_result"
    }
   ],
   "source": [
    "country_trade_balance = pd.DataFrame(columns=['Year', 'Export or Import', 'Value in US$ Millions'])\n",
    "for year in country_imports_exports['Year']:\n",
    "    export_value = country_imports_exports.query('Year == @year')['Export in US$ Millions'].iloc[0]\n",
    "    import_value = -country_imports_exports.query('Year == @year')['Import in US$ Millions'].iloc[0]\n",
    "    trade_value = export_value + import_value\n",
    "    \n",
    "    export_row = {'Year': year, 'Export or Import': 'Export', 'Value in US$ Millions': export_value, 'Trade Balance in US$ Millions':trade_value}\n",
    "    import_row = {'Year': year, 'Export or Import': 'Import', 'Value in US$ Millions': import_value, 'Trade Balance in US$ Millions':trade_value}\n",
    "\n",
    "    country_trade_balance = pd.concat([country_trade_balance, pd.DataFrame([export_row, import_row])])\n",
    "\n",
    "country_trade_balance.head()"
   ]
  },
  {
   "cell_type": "code",
   "execution_count": null,
   "metadata": {},
   "outputs": [],
   "source": []
  }
 ],
 "metadata": {
  "kernelspec": {
   "display_name": ".venv",
   "language": "python",
   "name": "python3"
  },
  "language_info": {
   "codemirror_mode": {
    "name": "ipython",
    "version": 3
   },
   "file_extension": ".py",
   "mimetype": "text/x-python",
   "name": "python",
   "nbconvert_exporter": "python",
   "pygments_lexer": "ipython3",
   "version": "3.10.2"
  }
 },
 "nbformat": 4,
 "nbformat_minor": 2
}
