{
 "cells": [
  {
   "cell_type": "markdown",
   "metadata": {},
   "source": [
    "## Imports"
   ]
  },
  {
   "cell_type": "code",
   "execution_count": 1,
   "metadata": {},
   "outputs": [],
   "source": [
    "import pandas as pd\n",
    "import numpy as np\n",
    "import re\n",
    "from icecream import ic\n",
    "\n",
    "from matplotlib import pyplot as plt\n",
    "import seaborn as sns\n",
    "sns.set()"
   ]
  },
  {
   "cell_type": "markdown",
   "metadata": {},
   "source": [
    "## Load Dataset"
   ]
  },
  {
   "cell_type": "code",
   "execution_count": 2,
   "metadata": {},
   "outputs": [],
   "source": [
    "source_filepath = '../datasets/oecd-population.csv'\n",
    "target_filepath = '../plots'\n",
    "oecd_pop_df = pd.read_csv(source_filepath)"
   ]
  },
  {
   "cell_type": "code",
   "execution_count": 3,
   "metadata": {},
   "outputs": [
    {
     "data": {
      "text/html": [
       "<div>\n",
       "<style scoped>\n",
       "    .dataframe tbody tr th:only-of-type {\n",
       "        vertical-align: middle;\n",
       "    }\n",
       "\n",
       "    .dataframe tbody tr th {\n",
       "        vertical-align: top;\n",
       "    }\n",
       "\n",
       "    .dataframe thead th {\n",
       "        text-align: right;\n",
       "    }\n",
       "</style>\n",
       "<table border=\"1\" class=\"dataframe\">\n",
       "  <thead>\n",
       "    <tr style=\"text-align: right;\">\n",
       "      <th></th>\n",
       "      <th>COUNTRY</th>\n",
       "      <th>Country</th>\n",
       "      <th>SEX</th>\n",
       "      <th>Gender</th>\n",
       "      <th>AGE</th>\n",
       "      <th>Age</th>\n",
       "      <th>YEAR</th>\n",
       "      <th>Year</th>\n",
       "      <th>Value</th>\n",
       "      <th>Flag Codes</th>\n",
       "      <th>Flags</th>\n",
       "    </tr>\n",
       "  </thead>\n",
       "  <tbody>\n",
       "    <tr>\n",
       "      <th>0</th>\n",
       "      <td>AUS</td>\n",
       "      <td>Australia</td>\n",
       "      <td>F</td>\n",
       "      <td>Female</td>\n",
       "      <td>Y2</td>\n",
       "      <td>2 years</td>\n",
       "      <td>2000</td>\n",
       "      <td>2000</td>\n",
       "      <td>122824.0</td>\n",
       "      <td>NaN</td>\n",
       "      <td>NaN</td>\n",
       "    </tr>\n",
       "    <tr>\n",
       "      <th>1</th>\n",
       "      <td>AUS</td>\n",
       "      <td>Australia</td>\n",
       "      <td>F</td>\n",
       "      <td>Female</td>\n",
       "      <td>Y2</td>\n",
       "      <td>2 years</td>\n",
       "      <td>2005</td>\n",
       "      <td>2005</td>\n",
       "      <td>123149.0</td>\n",
       "      <td>NaN</td>\n",
       "      <td>NaN</td>\n",
       "    </tr>\n",
       "    <tr>\n",
       "      <th>2</th>\n",
       "      <td>AUS</td>\n",
       "      <td>Australia</td>\n",
       "      <td>F</td>\n",
       "      <td>Female</td>\n",
       "      <td>Y2</td>\n",
       "      <td>2 years</td>\n",
       "      <td>2010</td>\n",
       "      <td>2010</td>\n",
       "      <td>142144.0</td>\n",
       "      <td>NaN</td>\n",
       "      <td>NaN</td>\n",
       "    </tr>\n",
       "    <tr>\n",
       "      <th>3</th>\n",
       "      <td>AUS</td>\n",
       "      <td>Australia</td>\n",
       "      <td>F</td>\n",
       "      <td>Female</td>\n",
       "      <td>Y2</td>\n",
       "      <td>2 years</td>\n",
       "      <td>2011</td>\n",
       "      <td>2011</td>\n",
       "      <td>142664.0</td>\n",
       "      <td>NaN</td>\n",
       "      <td>NaN</td>\n",
       "    </tr>\n",
       "    <tr>\n",
       "      <th>4</th>\n",
       "      <td>AUS</td>\n",
       "      <td>Australia</td>\n",
       "      <td>F</td>\n",
       "      <td>Female</td>\n",
       "      <td>Y2</td>\n",
       "      <td>2 years</td>\n",
       "      <td>2012</td>\n",
       "      <td>2012</td>\n",
       "      <td>145990.0</td>\n",
       "      <td>NaN</td>\n",
       "      <td>NaN</td>\n",
       "    </tr>\n",
       "  </tbody>\n",
       "</table>\n",
       "</div>"
      ],
      "text/plain": [
       "  COUNTRY    Country SEX  Gender AGE      Age  YEAR  Year     Value  \\\n",
       "0     AUS  Australia   F  Female  Y2  2 years  2000  2000  122824.0   \n",
       "1     AUS  Australia   F  Female  Y2  2 years  2005  2005  123149.0   \n",
       "2     AUS  Australia   F  Female  Y2  2 years  2010  2010  142144.0   \n",
       "3     AUS  Australia   F  Female  Y2  2 years  2011  2011  142664.0   \n",
       "4     AUS  Australia   F  Female  Y2  2 years  2012  2012  145990.0   \n",
       "\n",
       "  Flag Codes Flags  \n",
       "0        NaN   NaN  \n",
       "1        NaN   NaN  \n",
       "2        NaN   NaN  \n",
       "3        NaN   NaN  \n",
       "4        NaN   NaN  "
      ]
     },
     "execution_count": 3,
     "metadata": {},
     "output_type": "execute_result"
    }
   ],
   "source": [
    "oecd_pop_df.head()"
   ]
  },
  {
   "cell_type": "code",
   "execution_count": 4,
   "metadata": {},
   "outputs": [
    {
     "data": {
      "text/plain": [
       "(92907, 11)"
      ]
     },
     "execution_count": 4,
     "metadata": {},
     "output_type": "execute_result"
    }
   ],
   "source": [
    "oecd_pop_df.shape"
   ]
  },
  {
   "cell_type": "markdown",
   "metadata": {},
   "source": [
    "## Data Preprocessing"
   ]
  },
  {
   "cell_type": "code",
   "execution_count": 5,
   "metadata": {},
   "outputs": [
    {
     "data": {
      "text/html": [
       "<div>\n",
       "<style scoped>\n",
       "    .dataframe tbody tr th:only-of-type {\n",
       "        vertical-align: middle;\n",
       "    }\n",
       "\n",
       "    .dataframe tbody tr th {\n",
       "        vertical-align: top;\n",
       "    }\n",
       "\n",
       "    .dataframe thead th {\n",
       "        text-align: right;\n",
       "    }\n",
       "</style>\n",
       "<table border=\"1\" class=\"dataframe\">\n",
       "  <thead>\n",
       "    <tr style=\"text-align: right;\">\n",
       "      <th></th>\n",
       "      <th>Country</th>\n",
       "      <th>Gender</th>\n",
       "      <th>Age</th>\n",
       "      <th>Year</th>\n",
       "      <th>Value</th>\n",
       "    </tr>\n",
       "  </thead>\n",
       "  <tbody>\n",
       "    <tr>\n",
       "      <th>0</th>\n",
       "      <td>Australia</td>\n",
       "      <td>Female</td>\n",
       "      <td>2 years</td>\n",
       "      <td>2000</td>\n",
       "      <td>122824.0</td>\n",
       "    </tr>\n",
       "    <tr>\n",
       "      <th>1</th>\n",
       "      <td>Australia</td>\n",
       "      <td>Female</td>\n",
       "      <td>2 years</td>\n",
       "      <td>2005</td>\n",
       "      <td>123149.0</td>\n",
       "    </tr>\n",
       "    <tr>\n",
       "      <th>2</th>\n",
       "      <td>Australia</td>\n",
       "      <td>Female</td>\n",
       "      <td>2 years</td>\n",
       "      <td>2010</td>\n",
       "      <td>142144.0</td>\n",
       "    </tr>\n",
       "    <tr>\n",
       "      <th>3</th>\n",
       "      <td>Australia</td>\n",
       "      <td>Female</td>\n",
       "      <td>2 years</td>\n",
       "      <td>2011</td>\n",
       "      <td>142664.0</td>\n",
       "    </tr>\n",
       "    <tr>\n",
       "      <th>4</th>\n",
       "      <td>Australia</td>\n",
       "      <td>Female</td>\n",
       "      <td>2 years</td>\n",
       "      <td>2012</td>\n",
       "      <td>145990.0</td>\n",
       "    </tr>\n",
       "  </tbody>\n",
       "</table>\n",
       "</div>"
      ],
      "text/plain": [
       "     Country  Gender      Age  Year     Value\n",
       "0  Australia  Female  2 years  2000  122824.0\n",
       "1  Australia  Female  2 years  2005  123149.0\n",
       "2  Australia  Female  2 years  2010  142144.0\n",
       "3  Australia  Female  2 years  2011  142664.0\n",
       "4  Australia  Female  2 years  2012  145990.0"
      ]
     },
     "execution_count": 5,
     "metadata": {},
     "output_type": "execute_result"
    }
   ],
   "source": [
    "cols_of_interest = ['Country', 'Gender', 'Age', 'Year', 'Value']\n",
    "\n",
    "oecd_pop = oecd_pop_df[cols_of_interest]\n",
    "oecd_pop.head()"
   ]
  },
  {
   "cell_type": "code",
   "execution_count": 6,
   "metadata": {},
   "outputs": [],
   "source": [
    "#Input Parameters\n",
    "\n",
    "selected_genders = ['Total']\n",
    "selected_country = 'Japan'\n",
    "group_age_by = 15\n",
    "\n",
    "include_65_above = True"
   ]
  },
  {
   "cell_type": "code",
   "execution_count": 7,
   "metadata": {},
   "outputs": [
    {
     "data": {
      "text/html": [
       "<div>\n",
       "<style scoped>\n",
       "    .dataframe tbody tr th:only-of-type {\n",
       "        vertical-align: middle;\n",
       "    }\n",
       "\n",
       "    .dataframe tbody tr th {\n",
       "        vertical-align: top;\n",
       "    }\n",
       "\n",
       "    .dataframe thead th {\n",
       "        text-align: right;\n",
       "    }\n",
       "</style>\n",
       "<table border=\"1\" class=\"dataframe\">\n",
       "  <thead>\n",
       "    <tr style=\"text-align: right;\">\n",
       "      <th></th>\n",
       "      <th>Age</th>\n",
       "      <th>Year</th>\n",
       "      <th>Value</th>\n",
       "    </tr>\n",
       "  </thead>\n",
       "  <tbody>\n",
       "    <tr>\n",
       "      <th>56838</th>\n",
       "      <td>31 years</td>\n",
       "      <td>2000</td>\n",
       "      <td>1818000.0</td>\n",
       "    </tr>\n",
       "    <tr>\n",
       "      <th>56839</th>\n",
       "      <td>31 years</td>\n",
       "      <td>2005</td>\n",
       "      <td>2022000.0</td>\n",
       "    </tr>\n",
       "    <tr>\n",
       "      <th>56840</th>\n",
       "      <td>31 years</td>\n",
       "      <td>2010</td>\n",
       "      <td>1652750.0</td>\n",
       "    </tr>\n",
       "    <tr>\n",
       "      <th>56841</th>\n",
       "      <td>31 years</td>\n",
       "      <td>2011</td>\n",
       "      <td>1617116.0</td>\n",
       "    </tr>\n",
       "    <tr>\n",
       "      <th>56842</th>\n",
       "      <td>31 years</td>\n",
       "      <td>2012</td>\n",
       "      <td>1571785.0</td>\n",
       "    </tr>\n",
       "  </tbody>\n",
       "</table>\n",
       "</div>"
      ],
      "text/plain": [
       "            Age  Year      Value\n",
       "56838  31 years  2000  1818000.0\n",
       "56839  31 years  2005  2022000.0\n",
       "56840  31 years  2010  1652750.0\n",
       "56841  31 years  2011  1617116.0\n",
       "56842  31 years  2012  1571785.0"
      ]
     },
     "execution_count": 7,
     "metadata": {},
     "output_type": "execute_result"
    }
   ],
   "source": [
    "#Data Filtering\n",
    "\n",
    "oecd_pop = oecd_pop[oecd_pop['Gender'].isin(selected_genders)].drop('Gender', axis=1)\n",
    "oecd_pop = oecd_pop.query('Country == @selected_country').drop('Country', axis=1)\n",
    "oecd_pop.head()"
   ]
  },
  {
   "cell_type": "code",
   "execution_count": 8,
   "metadata": {},
   "outputs": [
    {
     "data": {
      "text/plain": [
       "array(['31 years', 'From 50 to 54 years', '32 years', '41 years',\n",
       "       '22 years', '28 years', '37 years', '3 years', '26 years',\n",
       "       '7 years', '16 years', '17 years', '5 years', '11 years',\n",
       "       '49 years', '46 years', '40 years', '23 years', '14 years',\n",
       "       'From 10 to 14 years', '20 years', '35 years', '45 years',\n",
       "       '36 years', '2 years', '8 years', '13 years', '48 years', 'Total',\n",
       "       '34 years', '65 years or over', '38 years', '47 years', '24 years',\n",
       "       '15 years', '25 years', '19 years', '44 years', '1 year',\n",
       "       '21 years', '43 years', '0 years', '12 years', '10 years',\n",
       "       '30 years', 'Unknown', '33 years', 'From 60 to 64 years',\n",
       "       '39 years', '42 years', '4 years', '27 years',\n",
       "       'From 55 to 59 years', '29 years', '6 years', '18 years',\n",
       "       '9 years'], dtype=object)"
      ]
     },
     "execution_count": 8,
     "metadata": {},
     "output_type": "execute_result"
    }
   ],
   "source": [
    "oecd_pop.Age.unique()"
   ]
  },
  {
   "cell_type": "code",
   "execution_count": 9,
   "metadata": {},
   "outputs": [],
   "source": [
    "def generate_age_groups_dict(group_age_by):\n",
    "    _REFERENCE_AGE = 65\n",
    "    age_groups_dict = dict()\n",
    "\n",
    "    gen_key = lambda n_years: f'{n_years} years' if n_years != 1 else '1 year'\n",
    "    get_age_groups = lambda *args: \\\n",
    "        f'{args[0]} years' if args[0] == args[1] else f'{age-group_age_by} years to {age-1} years'\n",
    "\n",
    "    age = _REFERENCE_AGE\n",
    "    if age >= 65: \n",
    "        ages_group = '65 years or over'\n",
    "        age_groups_dict[ages_group] = ages_group\n",
    "    while age > 50:\n",
    "        ages_group = get_age_groups(age-group_age_by, age-1)\n",
    "        for init_age in range(age-group_age_by, age, 5):\n",
    "            if init_age+5 > 50:\n",
    "                age_groups_dict[f'From {init_age} to {init_age+5-1} years'] = ages_group\n",
    "            else:\n",
    "                age_groups_dict.update({gen_key(i):ages_group for i in range(init_age, init_age+5)})\n",
    "        age -= group_age_by\n",
    "    while age > 0 and age >= group_age_by:\n",
    "        ages_group = f'{get_age_groups(age-group_age_by, age-1)}'\n",
    "        age_groups_dict.update({gen_key(i):ages_group for i in range(age-group_age_by, age)})\n",
    "        age -= group_age_by\n",
    "    if age > 0:\n",
    "        ages_group = f'below {age} years'\n",
    "        age_groups_dict.update({gen_key(i): ages_group for i in range(0, age)})\n",
    "\n",
    "    return age_groups_dict"
   ]
  },
  {
   "cell_type": "code",
   "execution_count": 10,
   "metadata": {},
   "outputs": [
    {
     "data": {
      "text/plain": [
       "{'65 years or over': '65 years or over',\n",
       " 'From 50 to 54 years': '50 years to 64 years',\n",
       " 'From 55 to 59 years': '50 years to 64 years',\n",
       " 'From 60 to 64 years': '50 years to 64 years',\n",
       " '35 years': '35 years to 49 years',\n",
       " '36 years': '35 years to 49 years',\n",
       " '37 years': '35 years to 49 years',\n",
       " '38 years': '35 years to 49 years',\n",
       " '39 years': '35 years to 49 years',\n",
       " '40 years': '35 years to 49 years',\n",
       " '41 years': '35 years to 49 years',\n",
       " '42 years': '35 years to 49 years',\n",
       " '43 years': '35 years to 49 years',\n",
       " '44 years': '35 years to 49 years',\n",
       " '45 years': '35 years to 49 years',\n",
       " '46 years': '35 years to 49 years',\n",
       " '47 years': '35 years to 49 years',\n",
       " '48 years': '35 years to 49 years',\n",
       " '49 years': '35 years to 49 years',\n",
       " '20 years': '20 years to 34 years',\n",
       " '21 years': '20 years to 34 years',\n",
       " '22 years': '20 years to 34 years',\n",
       " '23 years': '20 years to 34 years',\n",
       " '24 years': '20 years to 34 years',\n",
       " '25 years': '20 years to 34 years',\n",
       " '26 years': '20 years to 34 years',\n",
       " '27 years': '20 years to 34 years',\n",
       " '28 years': '20 years to 34 years',\n",
       " '29 years': '20 years to 34 years',\n",
       " '30 years': '20 years to 34 years',\n",
       " '31 years': '20 years to 34 years',\n",
       " '32 years': '20 years to 34 years',\n",
       " '33 years': '20 years to 34 years',\n",
       " '34 years': '20 years to 34 years',\n",
       " '5 years': '5 years to 19 years',\n",
       " '6 years': '5 years to 19 years',\n",
       " '7 years': '5 years to 19 years',\n",
       " '8 years': '5 years to 19 years',\n",
       " '9 years': '5 years to 19 years',\n",
       " '10 years': '5 years to 19 years',\n",
       " '11 years': '5 years to 19 years',\n",
       " '12 years': '5 years to 19 years',\n",
       " '13 years': '5 years to 19 years',\n",
       " '14 years': '5 years to 19 years',\n",
       " '15 years': '5 years to 19 years',\n",
       " '16 years': '5 years to 19 years',\n",
       " '17 years': '5 years to 19 years',\n",
       " '18 years': '5 years to 19 years',\n",
       " '19 years': '5 years to 19 years',\n",
       " '0 years': 'below 5 years',\n",
       " '1 year': 'below 5 years',\n",
       " '2 years': 'below 5 years',\n",
       " '3 years': 'below 5 years',\n",
       " '4 years': 'below 5 years'}"
      ]
     },
     "execution_count": 10,
     "metadata": {},
     "output_type": "execute_result"
    }
   ],
   "source": [
    "age_groups = generate_age_groups_dict(group_age_by)\n",
    "age_groups"
   ]
  },
  {
   "cell_type": "markdown",
   "metadata": {},
   "source": [
    "## Aggregation"
   ]
  },
  {
   "cell_type": "code",
   "execution_count": 11,
   "metadata": {},
   "outputs": [
    {
     "data": {
      "text/html": [
       "<div>\n",
       "<style scoped>\n",
       "    .dataframe tbody tr th:only-of-type {\n",
       "        vertical-align: middle;\n",
       "    }\n",
       "\n",
       "    .dataframe tbody tr th {\n",
       "        vertical-align: top;\n",
       "    }\n",
       "\n",
       "    .dataframe thead th {\n",
       "        text-align: right;\n",
       "    }\n",
       "</style>\n",
       "<table border=\"1\" class=\"dataframe\">\n",
       "  <thead>\n",
       "    <tr style=\"text-align: right;\">\n",
       "      <th></th>\n",
       "      <th>Age</th>\n",
       "      <th>Year</th>\n",
       "      <th>Value</th>\n",
       "    </tr>\n",
       "  </thead>\n",
       "  <tbody>\n",
       "    <tr>\n",
       "      <th>56838</th>\n",
       "      <td>20 years to 34 years</td>\n",
       "      <td>2000</td>\n",
       "      <td>1818000.0</td>\n",
       "    </tr>\n",
       "    <tr>\n",
       "      <th>56839</th>\n",
       "      <td>20 years to 34 years</td>\n",
       "      <td>2005</td>\n",
       "      <td>2022000.0</td>\n",
       "    </tr>\n",
       "    <tr>\n",
       "      <th>56840</th>\n",
       "      <td>20 years to 34 years</td>\n",
       "      <td>2010</td>\n",
       "      <td>1652750.0</td>\n",
       "    </tr>\n",
       "    <tr>\n",
       "      <th>56841</th>\n",
       "      <td>20 years to 34 years</td>\n",
       "      <td>2011</td>\n",
       "      <td>1617116.0</td>\n",
       "    </tr>\n",
       "    <tr>\n",
       "      <th>56842</th>\n",
       "      <td>20 years to 34 years</td>\n",
       "      <td>2012</td>\n",
       "      <td>1571785.0</td>\n",
       "    </tr>\n",
       "  </tbody>\n",
       "</table>\n",
       "</div>"
      ],
      "text/plain": [
       "                        Age  Year      Value\n",
       "56838  20 years to 34 years  2000  1818000.0\n",
       "56839  20 years to 34 years  2005  2022000.0\n",
       "56840  20 years to 34 years  2010  1652750.0\n",
       "56841  20 years to 34 years  2011  1617116.0\n",
       "56842  20 years to 34 years  2012  1571785.0"
      ]
     },
     "execution_count": 11,
     "metadata": {},
     "output_type": "execute_result"
    }
   ],
   "source": [
    "#Age to Age Groups\n",
    "\n",
    "oecd_pop['Age'].replace(age_groups, inplace=True)\n",
    "oecd_pop = oecd_pop.query('Age in @age_groups.values()')\n",
    "oecd_pop.head()"
   ]
  },
  {
   "cell_type": "code",
   "execution_count": 12,
   "metadata": {},
   "outputs": [
    {
     "data": {
      "text/plain": [
       "Year  Age                 \n",
       "2000  20 years to 34 years    27463000.0\n",
       "      35 years to 49 years    25256000.0\n",
       "      5 years to 19 years     20446000.0\n",
       "      50 years to 64 years    26385000.0\n",
       "      65 years or over        21186000.0\n",
       "                                 ...    \n",
       "2021  35 years to 49 years    25843073.0\n",
       "      5 years to 19 years     16196548.0\n",
       "      50 years to 64 years    24120603.0\n",
       "      65 years or over        36026632.0\n",
       "      below 5 years            4541360.0\n",
       "Name: Value, Length: 84, dtype: float64"
      ]
     },
     "execution_count": 12,
     "metadata": {},
     "output_type": "execute_result"
    }
   ],
   "source": [
    "#GroupBy\n",
    "\n",
    "oecd_pop_agg = oecd_pop.groupby(['Year', 'Age'])['Value'].sum()\n",
    "oecd_pop_agg"
   ]
  },
  {
   "cell_type": "code",
   "execution_count": 13,
   "metadata": {},
   "outputs": [
    {
     "data": {
      "text/plain": [
       "Year  Age                 \n",
       "2000  below 5 years            5950000.0\n",
       "      5 years to 19 years     20446000.0\n",
       "      20 years to 34 years    27463000.0\n",
       "      35 years to 49 years    25256000.0\n",
       "      50 years to 64 years    26385000.0\n",
       "                                 ...    \n",
       "2021  5 years to 19 years     16196548.0\n",
       "      20 years to 34 years    19417883.0\n",
       "      35 years to 49 years    25843073.0\n",
       "      50 years to 64 years    24120603.0\n",
       "      65 years or over        36026632.0\n",
       "Name: Value, Length: 84, dtype: float64"
      ]
     },
     "execution_count": 13,
     "metadata": {},
     "output_type": "execute_result"
    }
   ],
   "source": [
    "#Sorting\n",
    "\n",
    "get_nums = lambda str: tuple([int(match) for match in re.findall(r'\\d+', str)])\n",
    "age_groups_list = sorted(oecd_pop_agg.index.get_level_values(level=1).unique(), key=get_nums)\n",
    "oecd_pop_agg = oecd_pop_agg.reindex(age_groups_list, level=1)\n",
    "oecd_pop_agg"
   ]
  },
  {
   "cell_type": "markdown",
   "metadata": {},
   "source": [
    "## Plotting"
   ]
  },
  {
   "cell_type": "code",
   "execution_count": 14,
   "metadata": {},
   "outputs": [
    {
     "ename": "NameError",
     "evalue": "name 'y' is not defined",
     "output_type": "error",
     "traceback": [
      "\u001b[0;31m---------------------------------------------------------------------------\u001b[0m",
      "\u001b[0;31mNameError\u001b[0m                                 Traceback (most recent call last)",
      "Cell \u001b[0;32mIn[14], line 9\u001b[0m\n\u001b[1;32m      7\u001b[0m ax\u001b[38;5;241m.\u001b[39mset_title(\u001b[38;5;124mf\u001b[39m\u001b[38;5;124m'\u001b[39m\u001b[38;5;124mPopulation by Year and Age Group for \u001b[39m\u001b[38;5;132;01m{\u001b[39;00mselected_country\u001b[38;5;132;01m}\u001b[39;00m\u001b[38;5;124m'\u001b[39m)\n\u001b[1;32m      8\u001b[0m y_ticks \u001b[38;5;241m=\u001b[39m [\u001b[38;5;124m'\u001b[39m\u001b[38;5;124m1,000,000\u001b[39m\u001b[38;5;124m'\u001b[39m, \u001b[38;5;124m'\u001b[39m\u001b[38;5;124m2,000,000\u001b[39m\u001b[38;5;124m'\u001b[39m, \u001b[38;5;124m'\u001b[39m\u001b[38;5;124m3,0000,00\u001b[39m\u001b[38;5;124m'\u001b[39m, \u001b[38;5;124m'\u001b[39m\u001b[38;5;124m4,000,000\u001b[39m\u001b[38;5;124m'\u001b[39m, \u001b[38;5;124m'\u001b[39m\u001b[38;5;124m5,000,000\u001b[39m\u001b[38;5;124m'\u001b[39m, \u001b[38;5;124m'\u001b[39m\u001b[38;5;124m6,000,000\u001b[39m\u001b[38;5;124m'\u001b[39m, \u001b[38;5;124m'\u001b[39m\u001b[38;5;124m7,000,000\u001b[39m\u001b[38;5;124m'\u001b[39m, \u001b[38;5;124m'\u001b[39m\u001b[38;5;124m8,000,000\u001b[39m\u001b[38;5;124m'\u001b[39m, \u001b[38;5;124m'\u001b[39m\u001b[38;5;124m9,000,000\u001b[39m\u001b[38;5;124m'\u001b[39m, \u001b[38;5;124m'\u001b[39m\u001b[38;5;124m10,000,000\u001b[39m\u001b[38;5;124m'\u001b[39m]\n\u001b[0;32m----> 9\u001b[0m \u001b[43my\u001b[49m\n\u001b[1;32m     10\u001b[0m \u001b[38;5;66;03m# ax.set_yticklabels(y_ticks)\u001b[39;00m\n\u001b[1;32m     12\u001b[0m plt\u001b[38;5;241m.\u001b[39mshow()\n",
      "\u001b[0;31mNameError\u001b[0m: name 'y' is not defined"
     ]
    },
    {
     "data": {
      "image/png": "[encoded data removed]",
      "text/plain": [
       "<Figure size 1000x600 with 1 Axes>"
      ]
     },
     "metadata": {},
     "output_type": "display_data"
    }
   ],
   "source": [
    "# Plotting\n",
    "df_plot = oecd_pop_agg.unstack()\n",
    "\n",
    "ax = df_plot.plot(kind='bar', width=0.9, figsize=(10, 6), rot=45)\n",
    "\n",
    "ax.set_ylabel('Values')\n",
    "ax.set_title(f'Population by Year and Age Group for {selected_country}')\n",
    "y_ticks = ['1,000,000', '2,000,000', '3,0000,00', '4,000,000', '5,000,000', '6,000,000', '7,000,000', '8,000,000', '9,000,000', '10,000,000']\n",
    "y\n",
    "# ax.set_yticklabels(y_ticks)\n",
    "\n",
    "plt.show()"
   ]
  },
  {
   "cell_type": "code",
   "execution_count": null,
   "metadata": {},
   "outputs": [],
   "source": []
  }
 ],
 "metadata": {
  "kernelspec": {
   "display_name": ".venv",
   "language": "python",
   "name": "python3"
  },
  "language_info": {
   "codemirror_mode": {
    "name": "ipython",
    "version": 3
   },
   "file_extension": ".py",
   "mimetype": "text/x-python",
   "name": "python",
   "nbconvert_exporter": "python",
   "pygments_lexer": "ipython3",
   "version": "3.10.2"
  }
 },
 "nbformat": 4,
 "nbformat_minor": 2
}
